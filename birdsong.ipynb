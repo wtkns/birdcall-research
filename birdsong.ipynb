{
  "nbformat": 4,
  "nbformat_minor": 0,
  "metadata": {
    "colab": {
      "name": "birdsong.ipynb",
      "provenance": [],
      "collapsed_sections": [],
      "authorship_tag": "ABX9TyMEHaOYrU+2GezITz78XLWi",
      "include_colab_link": true
    },
    "kernelspec": {
      "name": "python3",
      "display_name": "Python 3"
    },
    "language_info": {
      "name": "python"
    }
  },
  "cells": [
    {
      "cell_type": "markdown",
      "metadata": {
        "id": "view-in-github",
        "colab_type": "text"
      },
      "source": [
        "<a href=\"https://colab.research.google.com/github/wtkns/birdsong/blob/main/birdsong.ipynb\" target=\"_parent\"><img src=\"https://colab.research.google.com/assets/colab-badge.svg\" alt=\"Open In Colab\"/></a>"
      ]
    },
    {
      "cell_type": "code",
      "execution_count": null,
      "metadata": {
        "id": "K9gq8aaG0fLA"
      },
      "outputs": [],
      "source": [
        "!sudo apt-get install build-essential cmake libjack-jackd2-dev libsndfile1-dev libfftw3-dev libxt-dev libavahi-client-dev\n",
        "!sudo apt-get install git libasound2-dev libicu-dev libreadline6-dev libudev-dev pkg-config libncurses5-dev\n",
        "\n",
        "!git clone --recursive https://github.com/supercollider/supercollider.git\n",
        "\n",
        "import os\n",
        "os.chdir('supercollider')\n",
        "\n",
        "!git checkout Version-3.12.2\n",
        "\n",
        "os.makedirs('build')\n",
        "os.chdir('build')\n",
        "\n",
        "!cmake -DSC_QT=OFF -DCMAKE_BUILD_TYPE=Release -DNATIVE=ON -DNO_X11=ON -DSC_EL=no ..\n",
        "!make -j3\n",
        "!sudo make install\n",
        "\n",
        "!sclang -v\n",
        "!echo '\"hello world\".postln;'>test.scd\n",
        "!sclang ./test.scd"
      ]
    },
    {
      "cell_type": "code",
      "source": [
        "os.chdir('/content')\n",
        "!git clone --recursive https://github.com/supercollider/sc3-plugins.git\n",
        "os.makedirs('sc3-plugins/build')\n",
        "os.chdir('sc3-plugins/build')\n",
        "\n",
        "!cmake -DSC_PATH=/content/supercollider -DCMAKE_BUILD_TYPE=Release -DSUPERNOVA=ON ..\n",
        "!cmake --build . --config Release\n",
        "!sudo cmake --build . --config Release --target install"
      ],
      "metadata": {
        "id": "tJM-_CnD0qAp"
      },
      "execution_count": null,
      "outputs": []
    },
    {
      "cell_type": "code",
      "source": [
        "os.chdir('/content')\n",
        "!git clone https://github.com/wtkns/birdsong"
      ],
      "metadata": {
        "id": "WS0BVISo0utD"
      },
      "execution_count": null,
      "outputs": []
    },
    {
      "cell_type": "code",
      "source": [
        "os.chdir('/content/birdsong/sc')\n",
        "!sclang ./nrtTest.scd testing 5"
      ],
      "metadata": {
        "id": "MmlmcYA60woF"
      },
      "execution_count": null,
      "outputs": []
    }
  ]
}