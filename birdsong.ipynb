{
  "cells": [
    {
      "cell_type": "markdown",
      "metadata": {
        "id": "view-in-github",
        "colab_type": "text"
      },
      "source": [
        "<a href=\"https://colab.research.google.com/github/wtkns/birdsong/blob/main/birdsong.ipynb\" target=\"_parent\"><img src=\"https://colab.research.google.com/assets/colab-badge.svg\" alt=\"Open In Colab\"/></a>"
      ]
    },
    {
      "cell_type": "code",
      "execution_count": null,
      "metadata": {
        "id": "K9gq8aaG0fLA"
      },
      "outputs": [],
      "source": [
        "!sudo apt-get install build-essential cmake libjack-jackd2-dev libsndfile1-dev libfftw3-dev libxt-dev libavahi-client-dev\n",
        "!sudo apt-get install git libasound2-dev libicu-dev libreadline6-dev libudev-dev pkg-config libncurses5-dev\n",
        "\n",
        "!git clone --recursive https://github.com/supercollider/supercollider.git\n",
        "\n",
        "import os\n",
        "os.chdir('supercollider')\n",
        "\n",
        "!git checkout Version-3.12.2\n",
        "\n",
        "os.makedirs('build')\n",
        "os.chdir('build')\n",
        "\n",
        "!cmake -DSC_QT=OFF -DCMAKE_BUILD_TYPE=Release -DNATIVE=ON -DNO_X11=ON -DSC_EL=no ..\n",
        "!make -j3\n",
        "!sudo make install\n",
        "\n",
        "# if we end up needing sc3-plugins:\n",
        "\n",
        "# os.chdir('/content')\n",
        "# !git clone --recursive https://github.com/supercollider/sc3-plugins.git\n",
        "# os.makedirs('sc3-plugins/build')\n",
        "# os.chdir('sc3-plugins/build')\n",
        "\n",
        "# !cmake -DSC_PATH=/content/supercollider -DCMAKE_BUILD_TYPE=Release -DSUPERNOVA=ON ..\n",
        "# !cmake --build . --config Release\n",
        "# !sudo cmake --build . --config Release --target install\n",
        "\n",
        "# !sclang -v\n",
        "# !echo '\"hello world\".postln;'>test.scd\n",
        "# !sclang ./test.scd"
      ]
    },
    {
      "cell_type": "code",
      "source": [
        "%%writefile hansm-bird-nrt.scd\n",
        "/* hansm-bird-control.pd\n",
        "http://obiwannabe.co.uk/tutorials/html/tutorial_birds.html\n",
        "SC port by redFrik 080430 */\n",
        "\n",
        "  var myPath = \"./output/\" ++ thisProcess.argv[0] ++ \".wav\";\n",
        "  var argfreq = thisProcess.argv[1].asFloat;\n",
        "  var argatk = thisProcess.argv[2].asFloat;\n",
        "  var argdcy = thisProcess.argv[3].asFloat;\n",
        "  var argfmod1 = thisProcess.argv[4].asFloat;\n",
        "  var argatkf1 = thisProcess.argv[5].asFloat;\n",
        "  var argdcyf1 = thisProcess.argv[6].asFloat;\n",
        "  var argfmod2 = thisProcess.argv[7].asFloat;\n",
        "  var argatkf2 = thisProcess.argv[8].asFloat;\n",
        "  var argdcyf2 = thisProcess.argv[9].asFloat;\n",
        "  var argamod1 = thisProcess.argv[10].asFloat;\n",
        "  var argatka1 = thisProcess.argv[11].asFloat;\n",
        "  var argdcya1 = thisProcess.argv[12].asFloat;\n",
        "  var argamod2 = thisProcess.argv[13].asFloat;\n",
        "  var argatka2 = thisProcess.argv[14].asFloat;\n",
        "  var argdcya2 = thisProcess.argv[15].asFloat;\n",
        "\n",
        "  var server = Server(\\nrt,\n",
        "      options: ServerOptions.new\n",
        "      .numOutputBusChannels_(2)\n",
        "  );\n",
        "\n",
        "  var birdsynth = SynthDef(\\birdCall, {|\n",
        "\t\t\tout= 0, pan= 0, gate= 1, freq= 0, amp= 0.5, atk= 0.5, dcy= 0.5,\n",
        "\t\t\tfmod1= 1, atkf1= 0.5, dcyf1= 0.5,\n",
        "\t\t\tfmod2= 1, atkf2= 0.5, dcyf2= 0.5,\n",
        "\t\t\tamod1= 1, atka1= 0.5, dcya1= 0.5,\n",
        "\t\t\tamod2= 1, atka2= 0.5, dcya2= 0.5|\n",
        "\n",
        "\t\t\tvar env, freq1, freq2, amp1, amp2, fmod, amod, z;\n",
        "\t\t\tenv= EnvGen.ar(Env([0, amp, 0], [atk, dcy], -4), gate, timeScale:0.9, doneAction:2);\n",
        "\t\t\tfreq1= EnvGen.ar(Env([0, fmod1, 0], [atkf1, dcyf1], -4), 1, 3000, 0, 0.9);\n",
        "\t\t\tfreq2= EnvGen.ar(Env([0, fmod2, 0], [atkf2, dcyf2], -4), 1, 3000, 0, 0.9);\n",
        "\t\t\tamp1= EnvGen.ar(Env([0, amod1, 0], [atka1, dcya1], -4), 1, 1, 0, 0.9);\n",
        "\t\t\tamp2= EnvGen.ar(Env([0, amod2, 0], [atka2, dcya2], -4), 1, 1, 0, 0.9);\n",
        "\t\t\tfmod= SinOsc.ar(freq1, 0, amp1, 1);\n",
        "\t\t\tamod= 1-SinOsc.ar(freq2, 0, amp2);\n",
        "\t\t\tz= SinOsc.ar(freq*7000+300*fmod, 0, amod);\n",
        "\t\t\tOut.ar(out, Pan2.ar(z, pan, env));\n",
        "\t});\n",
        "\n",
        "  var myScore = Score([\n",
        "      [0.0, ['/d_recv',birdsynth.asBytes]],\n",
        "      [0.0, (x = Synth.basicNew(\\birdCall, server)).newMsg(\n",
        "      args: [freq: argfreq, atk: argatk, dcy: argdcy,\n",
        "      fmod1: argfmod1, atkf1: argatkf1, dcyf1: argdcyf1,\n",
        "      fmod2: argfmod2, atkf2: argatkf2, dcyf2: argdcyf2,\n",
        "      amod1: argamod1, atka1: argatka1, dcya1: argdcya1,\n",
        "      amod2: argamod2, atka2: argatka2, dcya2: argdcya2]\n",
        "      )],\n",
        "      [1.0, x.freeMsg]\n",
        "  ]);\n",
        "\n",
        "  var myRoutine = Routine.new({\n",
        "      var cond = Condition.new;\n",
        "      \n",
        "      myScore.recordNRT(\n",
        "        outputFilePath:myPath.standardizePath,\n",
        "        headerFormat: \"WAV\",\n",
        "        sampleFormat: \"int16\",\n",
        "        options: server.options,\n",
        "        action: { cond.unhang }\n",
        "      );\n",
        "\n",
        "      cond.hang;\t\n",
        "      \"done\".postln;\t\n",
        "      0.exit;\n",
        "      \n",
        "  }); // end Routine\n",
        "\n",
        "  myRoutine.play;  // 'play' is a shortcut for scheduling the routine on a clock\n"
      ],
      "metadata": {
        "colab": {
          "base_uri": "https://localhost:8080/"
        },
        "id": "amo3cSwqFLei",
        "outputId": "86094734-6833-47b5-d0f9-06baba41d8b0"
      },
      "execution_count": 1,
      "outputs": [
        {
          "output_type": "stream",
          "name": "stdout",
          "text": [
            "Writing hansm-bird-nrt.scd\n"
          ]
        }
      ]
    },
    {
      "cell_type": "code",
      "source": [
        ""
      ],
      "metadata": {
        "id": "YzVDwCeg5v6-"
      },
      "execution_count": 14,
      "outputs": []
    },
    {
      "cell_type": "code",
      "source": [
        "%%writefile example-birds.txt\n",
        "triple-tailed-tree-troubler 0.387755 0.0204082 0.204082 0.367347 0.571429 0.734694 0.918367 1 0.77551 0.571429 0.367347 0.22449 0.0204082 0.183673 0.44898\n",
        "speckled-throated-spew 0.183673 0.591837 0.387755 0.0104082 0.530612 0.346939 0.244898 0.55102 0.122449 0.387755 1 0.612245 0.346939 0.816327 0.653061\n",
        "lesser-spotted-grinchwarbler 0.55102 0.591837 0.387755 0.0716327 0.0204082 0.346939 0.0204082 0.55102 0.122449 0.632653 1 0.612245 0.346939 0.816327 0.653061\n",
        "long-toed-mudhopper 0.163265 0.22449 0.183673 0.00306122 0.122449 1 0.0612245 1 0.77551 0.979592 0.204082 0.734694 1 0.142857 0.612245\n",
        "yellow-yiffled-yaffle 0.0204082 0.367347 0.183673 0.0612245 0 1 0.285714 0.22449 0.489796 0.367347 0.387755 0.734694 0.204082 0.428571 0.142857\n",
        "pointy-beaked-beetlefiend 0.428571 0.204082 0.489796 0.0204082 0.795918 0.591837 0.285714 0.22449 0.489796 0.204082 0.836735 0.734694 0.77551 0.428571 0.142857\n",
        "african-boojuboolubala 0.306122 0.959184 0.0408163 1 0 0.591837 0.285714 0.22449 0.489796 0.204082 0.836735 0.734694 0.77551 0.428571 0.142857\n",
        "common-muckoink 0.0204082 0.8 0.0816327 0.0204082 0.001 0.99 0.0204082 0.01 1 1 0.142857 0.734694 1 0.0612245 0.530612"
      ],
      "metadata": {
        "id": "u2MkjhtCFyyv"
      },
      "execution_count": null,
      "outputs": []
    },
    {
      "cell_type": "code",
      "execution_count": null,
      "metadata": {
        "id": "wXCZ5rfBHux3"
      },
      "outputs": [],
      "source": [
        "!sclang ./hansm-bird-nrt.scd triple-tailed-tree-troubler 0.387755 0.0204082 0.204082 0.367347 0.571429 0.734694 0.918367 1 0.77551 0.571429 0.367347 0.22449 0.0204082 0.183673 0.44898\n",
        "!sclang ./hansm-bird-nrt.scd speckled-throated-spew 0.183673 0.591837 0.387755 0.0104082 0.530612 0.346939 0.244898 0.55102 0.122449 0.387755 1 0.612245 0.346939 0.816327 0.653061"
      ]
    },
    {
      "cell_type": "code",
      "source": [
        "import IPython\n",
        "IPython.display.Audio('output/triple-tailed-tree-troubler.wav')\n",
        "IPython.display.Audio('output/speckled-throated-spew.wav')"
      ],
      "metadata": {
        "id": "Qt9lvCnW_C1y"
      },
      "execution_count": null,
      "outputs": []
    }
  ],
  "metadata": {
    "colab": {
      "collapsed_sections": [],
      "name": "birdsong.ipynb",
      "provenance": [],
      "mount_file_id": "1j6E4PTNYjkHXXw0Ki262DBgNCqBTtDEk",
      "authorship_tag": "ABX9TyPf2KiKP5tIM1DzzQYE2Kfb",
      "include_colab_link": true
    },
    "kernelspec": {
      "display_name": "Python 3",
      "name": "python3"
    },
    "language_info": {
      "name": "python"
    }
  },
  "nbformat": 4,
  "nbformat_minor": 0
}